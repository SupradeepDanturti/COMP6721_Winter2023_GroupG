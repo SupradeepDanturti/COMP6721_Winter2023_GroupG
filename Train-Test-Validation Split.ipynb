{
 "cells": [
  {
   "cell_type": "code",
   "execution_count": 1,
   "id": "ea5f8eb5",
   "metadata": {},
   "outputs": [],
   "source": [
    "import os\n",
    "import shutil\n",
    "from sklearn.model_selection import StratifiedShuffleSplit"
   ]
  },
  {
   "cell_type": "markdown",
   "id": "eddb8014",
   "metadata": {},
   "source": [
    "## APPA-REAL"
   ]
  },
  {
   "cell_type": "code",
   "execution_count": 6,
   "id": "22d0ecf5",
   "metadata": {},
   "outputs": [
    {
     "name": "stderr",
     "output_type": "stream",
     "text": [
      "Copying files: 7591 files [00:10, 743.27 files/s]\n"
     ]
    }
   ],
   "source": [
    "import splitfolders\n",
    "\n",
    "data_dir = 'D:/ConcordiaU/Winter 23/AI/Project/Datasets/1. APPA-REAL/Cropped Faces copy from kaggle/final_files/'\n",
    "out_dir = 'D:/ConcordiaU/Winter 23/AI/Project/Datasets/1. APPA-REAL/FinalDataset/'\n",
    "\n",
    "splitfolders.ratio(data_dir, \n",
    "                   output=out_dir, \n",
    "                   seed=19,\n",
    "                   ratio=(.8, .1, .1), \n",
    "                   group_prefix=None, \n",
    "                   move=False \n",
    "                   )"
   ]
  },
  {
   "cell_type": "code",
   "execution_count": 13,
   "id": "4ff53fe0",
   "metadata": {},
   "outputs": [
    {
     "name": "stdout",
     "output_type": "stream",
     "text": [
      "{'0': 169, '1': 141, '2': 145, '3': 157, '4': 144}\n"
     ]
    }
   ],
   "source": [
    "##APPA-REAL Dataset\n",
    "path = 'D:/ConcordiaU/Winter 23/AI/Project/Datasets/1. APPA-REAL/FinalDataset/val/'\n",
    "\n",
    "\n",
    "counts = {'0': 0, '1': 0, '2': 0, '3': 0, '4': 0}\n",
    "\n",
    "for age_group in counts.keys():\n",
    "    folder_path = os.path.join(path, age_group)\n",
    "    images = [f for f in os.listdir(folder_path) if f.endswith('.jpg')]\n",
    "    counts[age_group] = len(images)\n",
    "\n",
    "print(counts)\n"
   ]
  },
  {
   "cell_type": "code",
   "execution_count": 21,
   "id": "b17221c1",
   "metadata": {},
   "outputs": [],
   "source": [
    "###TRAIN: - {'0': 1356, '1': 1135, '2': 1164, '3': 1261, '4': 1154} --> 6070\n",
    "###TEST: - {'0': 171, '1': 143, '2': 147, '3': 159, '4': 145}       --> 765\n",
    "###Val: - {'0': 169, '1': 141, '2': 145, '3': 157, '4': 144}        --> 756"
   ]
  },
  {
   "cell_type": "markdown",
   "id": "31b73038",
   "metadata": {},
   "source": [
    "## UTKFace"
   ]
  },
  {
   "cell_type": "code",
   "execution_count": 15,
   "id": "8396eb0a",
   "metadata": {},
   "outputs": [
    {
     "name": "stderr",
     "output_type": "stream",
     "text": [
      "Copying files: 23706 files [03:09, 125.22 files/s]\n"
     ]
    }
   ],
   "source": [
    "import splitfolders\n",
    "\n",
    "data_dir = 'D:/ConcordiaU/Winter 23/AI/Project/Datasets/2. UTKFace/UTKFace/'\n",
    "out_dir = 'D:/ConcordiaU/Winter 23/AI/Project/Datasets/2. UTKFace/FinalDataset/'\n",
    "\n",
    "splitfolders.ratio(data_dir, # The location of dataset\n",
    "                   output=out_dir, # The output location\n",
    "                   seed=19, # The number of seed\n",
    "                   ratio=(.8, .1, .1), # The ratio of splited dataset\n",
    "                   group_prefix=None, # If your dataset contains more than one file like \".jpg\", \".pdf\", etc\n",
    "                   move=False # If you choose to move, turn this into True\n",
    "                   )"
   ]
  },
  {
   "cell_type": "code",
   "execution_count": 19,
   "id": "d1488fef",
   "metadata": {},
   "outputs": [
    {
     "name": "stdout",
     "output_type": "stream",
     "text": [
      "{'LessThan22': 561, '23To28': 574, '29To45': 672, 'GreaterThan45': 561}\n"
     ]
    }
   ],
   "source": [
    "##UTKFace Dataset\n",
    "#path = 'D:/ConcordiaU/Winter 23/AI/Project/Datasets/2. UTKFace/FinalDataset/train/'\n",
    "#path = 'D:/ConcordiaU/Winter 23/AI/Project/Datasets/2. UTKFace/FinalDataset/test/'\n",
    "path = 'D:/ConcordiaU/Winter 23/AI/Project/Datasets/2. UTKFace/FinalDataset/val/'\n",
    "\n",
    "\n",
    "counts = {'LessThan22': 0, '23To28': 0, '29To45': 0, 'GreaterThan45': 0}\n",
    "\n",
    "for age_group in counts.keys():\n",
    "    folder_path = os.path.join(path, age_group)\n",
    "    images = [f for f in os.listdir(folder_path) if f.endswith('.jpg')]\n",
    "    counts[age_group] = len(images)\n",
    "\n",
    "print(counts)\n"
   ]
  },
  {
   "cell_type": "code",
   "execution_count": 20,
   "id": "e970a2b7",
   "metadata": {},
   "outputs": [],
   "source": [
    "###Train - {'LessThan22': 4492, '23To28': 4599, '29To45': 5382, 'GreaterThan45': 4490} -->18963\n",
    "###Test - {'LessThan22': 563, '23To28': 576, '29To45': 674, 'GreaterThan45': 562}      -->2375\n",
    "###Val - {'LessThan22': 561, '23To28': 574, '29To45': 672, 'GreaterThan45': 561}       -->2368"
   ]
  },
  {
   "cell_type": "markdown",
   "id": "32cf496a",
   "metadata": {},
   "source": [
    "## Adience"
   ]
  },
  {
   "cell_type": "code",
   "execution_count": 22,
   "id": "2d6bcb2b",
   "metadata": {},
   "outputs": [
    {
     "name": "stderr",
     "output_type": "stream",
     "text": [
      "Copying files: 11030 files [01:31, 120.34 files/s]\n"
     ]
    }
   ],
   "source": [
    "import splitfolders\n",
    "\n",
    "data_dir = 'D:/ConcordiaU/Winter 23/AI/Project/Datasets/3. Adience/Preprocessed-Adience/age/'\n",
    "out_dir = 'D:/ConcordiaU/Winter 23/AI/Project/Datasets/3. Adience/FinalDataset/'\n",
    "\n",
    "splitfolders.ratio(data_dir, # The location of dataset\n",
    "                   output=out_dir, # The output location\n",
    "                   seed=19, # The number of seed\n",
    "                   ratio=(.8, .1, .1), # The ratio of splited dataset\n",
    "                   group_prefix=None, # If your dataset contains more than one file like \".jpg\", \".pdf\", etc\n",
    "                   move=False # If you choose to move, turn this into True\n",
    "                   )"
   ]
  },
  {
   "cell_type": "code",
   "execution_count": 25,
   "id": "d652056b",
   "metadata": {},
   "outputs": [
    {
     "name": "stdout",
     "output_type": "stream",
     "text": [
      "{'0-3': 182, '4-6': 147, '8-13': 129, '15-23': 93, '25-36': 300, '38-48': 141, '48-58': 57, '60-100': 50}\n"
     ]
    }
   ],
   "source": [
    "##Adience Dataset\n",
    "#path = 'D:/ConcordiaU/Winter 23/AI/Project/Datasets/3. Adience/FinalDataset/train/'\n",
    "#path = 'D:/ConcordiaU/Winter 23/AI/Project/Datasets/3. Adience/FinalDataset/test/'\n",
    "path = 'D:/ConcordiaU/Winter 23/AI/Project/Datasets/3. Adience/FinalDataset/val/'\n",
    "\n",
    "\n",
    "counts = {'0-3': 0, '4-6': 0, '8-13': 0, '15-23': 0, '25-36': 0, '38-48': 0, '48-58': 0, '60-100': 0}\n",
    "\n",
    "for age_group in counts.keys():\n",
    "    folder_path = os.path.join(path, age_group)\n",
    "    images = [f for f in os.listdir(folder_path) if f.endswith('.jpg')]\n",
    "    counts[age_group] = len(images)\n",
    "\n",
    "print(counts)\n"
   ]
  },
  {
   "cell_type": "code",
   "execution_count": 26,
   "id": "c4f617dc",
   "metadata": {},
   "outputs": [],
   "source": [
    "### Train - {'0-3': 1463, '4-6': 1176, '8-13': 1032, '15-23': 750, '25-36': 2400, '38-48': 1135, '48-58': 461, '60-100': 404}  -->8821\n",
    "### Test - {'0-3': 184, '4-6': 148, '8-13': 129, '15-23': 95, '25-36': 301, '38-48': 143, '48-58': 59, '60-100': 51}           -->1110\n",
    "### Val - {'0-3': 182, '4-6': 147, '8-13': 129, '15-23': 93, '25-36': 300, '38-48': 141, '48-58': 57, '60-100': 50}            -->1099"
   ]
  },
  {
   "cell_type": "code",
   "execution_count": null,
   "id": "6bf0c66e",
   "metadata": {},
   "outputs": [],
   "source": []
  }
 ],
 "metadata": {
  "kernelspec": {
   "display_name": "Python 3 (ipykernel)",
   "language": "python",
   "name": "python3"
  },
  "language_info": {
   "codemirror_mode": {
    "name": "ipython",
    "version": 3
   },
   "file_extension": ".py",
   "mimetype": "text/x-python",
   "name": "python",
   "nbconvert_exporter": "python",
   "pygments_lexer": "ipython3",
   "version": "3.9.13"
  }
 },
 "nbformat": 4,
 "nbformat_minor": 5
}
