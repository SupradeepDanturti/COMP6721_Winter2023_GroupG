{
  "cells": [
    {
      "cell_type": "markdown",
      "id": "6f796207",
      "metadata": {
        "id": "6f796207"
      },
      "source": [
        "### Imports"
      ]
    },
    {
      "cell_type": "code",
      "execution_count": null,
      "id": "7bde717c",
      "metadata": {
        "id": "7bde717c"
      },
      "outputs": [],
      "source": [
        "import os\n",
        "import numpy as np\n",
        "from PIL import Image, ImageFilter\n",
        "import cv2\n",
        "import torch,torchvision\n",
        "import torchvision.transforms as transforms\n",
        "from torchvision import datasets\n",
        "import torch.optim as optim\n",
        "from torchvision.datasets import ImageFolder\n",
        "from torch.utils.data import DataLoader\n",
        "from sklearn.preprocessing import label_binarize\n",
        "from itertools import cycle\n",
        "import matplotlib.pyplot as plt \n",
        "%matplotlib inline"
      ]
    },
    {
      "cell_type": "code",
      "source": [
        "from google.colab import drive\n",
        "drive.mount('/content/drive')"
      ],
      "metadata": {
        "colab": {
          "base_uri": "https://localhost:8080/"
        },
        "id": "_R2CjH776_JK",
        "outputId": "4efe7944-5daf-47e9-e1f5-7cce49ff5fe8"
      },
      "id": "_R2CjH776_JK",
      "execution_count": null,
      "outputs": [
        {
          "output_type": "stream",
          "name": "stdout",
          "text": [
            "Mounted at /content/drive\n"
          ]
        }
      ]
    },
    {
      "cell_type": "code",
      "source": [
        "import sklearn\n",
        "print(sklearn.__version__)"
      ],
      "metadata": {
        "colab": {
          "base_uri": "https://localhost:8080/"
        },
        "id": "duXP1sptV_F5",
        "outputId": "9c160a6b-3fba-468a-8f9c-e3da53baa54f"
      },
      "id": "duXP1sptV_F5",
      "execution_count": null,
      "outputs": [
        {
          "output_type": "stream",
          "name": "stdout",
          "text": [
            "1.2.2\n"
          ]
        }
      ]
    },
    {
      "cell_type": "code",
      "execution_count": null,
      "id": "acab10c7",
      "metadata": {
        "colab": {
          "base_uri": "https://localhost:8080/"
        },
        "id": "acab10c7",
        "outputId": "61c5492a-3c3b-4762-d994-e92a5f45ae87"
      },
      "outputs": [
        {
          "output_type": "execute_result",
          "data": {
            "text/plain": [
              "True"
            ]
          },
          "metadata": {},
          "execution_count": 4
        }
      ],
      "source": [
        "torch.cuda.is_available()"
      ]
    },
    {
      "cell_type": "code",
      "execution_count": null,
      "id": "a1f4121f",
      "metadata": {
        "id": "a1f4121f"
      },
      "outputs": [],
      "source": [
        "def load_data(path, test_split, val_split, batch_size, input_size):\n",
        "    \n",
        "    transform_dict={'src':transforms.Compose([transforms.RandomHorizontalFlip(),\n",
        "                                            transforms.Resize((224,224)),\n",
        "                      transforms.RandomVerticalFlip(),\n",
        "                      transforms.RandomRotation(15),\n",
        "                      transforms.ToTensor(),\n",
        "                      transforms.Normalize(mean=[0.485, 0.456, 0.406], std=[0.229, 0.224, 0.225])])}\n",
        "    \n",
        "    data1 = datasets.ImageFolder(root=path,transform =transform_dict['src'])\n",
        "    test_size=int(len(data1)*test_split)\n",
        "    val_size=int(len(data1)*val_split)\n",
        "    train_size=len(data1)-val_size-test_size\n",
        "    train_dataset,test_dataset,val_dataset = torch.utils.data.random_split(data1,[train_size,test_size,val_size])\n",
        "    data_loader_train=DataLoader(train_dataset,batch_size,shuffle=True)\n",
        "    data_loader_test=DataLoader(test_dataset,batch_size,shuffle=False)\n",
        "    data_loader_val=DataLoader(val_dataset,batch_size,shuffle=False)  \n",
        "    return data_loader_train, data_loader_test, data_loader_val"
      ]
    },
    {
      "cell_type": "code",
      "execution_count": null,
      "id": "e679b599",
      "metadata": {
        "id": "e679b599"
      },
      "outputs": [],
      "source": [
        "train_loader,test_loader,val_loader=load_data(path=r'/content/drive/MyDrive/Applied AI Project/Adience/', \n",
        "                                              test_split=0.1,val_split= 0.1,batch_size=64, input_size=[224,224])"
      ]
    },
    {
      "cell_type": "code",
      "execution_count": null,
      "id": "bad2f857",
      "metadata": {
        "id": "bad2f857",
        "colab": {
          "base_uri": "https://localhost:8080/"
        },
        "outputId": "a3729411-be97-405b-801c-66fd0e322135"
      },
      "outputs": [
        {
          "output_type": "stream",
          "name": "stderr",
          "text": [
            "/usr/local/lib/python3.9/dist-packages/torchvision/models/_utils.py:208: UserWarning: The parameter 'pretrained' is deprecated since 0.13 and may be removed in the future, please use 'weights' instead.\n",
            "  warnings.warn(\n",
            "/usr/local/lib/python3.9/dist-packages/torchvision/models/_utils.py:223: UserWarning: Arguments other than a weight enum or `None` for 'weights' are deprecated since 0.13 and may be removed in the future. The current behavior is equivalent to passing `weights=None`.\n",
            "  warnings.warn(msg)\n"
          ]
        },
        {
          "output_type": "execute_result",
          "data": {
            "text/plain": [
              "ResNet(\n",
              "  (conv1): Conv2d(3, 64, kernel_size=(7, 7), stride=(2, 2), padding=(3, 3), bias=False)\n",
              "  (bn1): BatchNorm2d(64, eps=1e-05, momentum=0.1, affine=True, track_running_stats=True)\n",
              "  (relu): ReLU(inplace=True)\n",
              "  (maxpool): MaxPool2d(kernel_size=3, stride=2, padding=1, dilation=1, ceil_mode=False)\n",
              "  (layer1): Sequential(\n",
              "    (0): BasicBlock(\n",
              "      (conv1): Conv2d(64, 64, kernel_size=(3, 3), stride=(1, 1), padding=(1, 1), bias=False)\n",
              "      (bn1): BatchNorm2d(64, eps=1e-05, momentum=0.1, affine=True, track_running_stats=True)\n",
              "      (relu): ReLU(inplace=True)\n",
              "      (conv2): Conv2d(64, 64, kernel_size=(3, 3), stride=(1, 1), padding=(1, 1), bias=False)\n",
              "      (bn2): BatchNorm2d(64, eps=1e-05, momentum=0.1, affine=True, track_running_stats=True)\n",
              "    )\n",
              "    (1): BasicBlock(\n",
              "      (conv1): Conv2d(64, 64, kernel_size=(3, 3), stride=(1, 1), padding=(1, 1), bias=False)\n",
              "      (bn1): BatchNorm2d(64, eps=1e-05, momentum=0.1, affine=True, track_running_stats=True)\n",
              "      (relu): ReLU(inplace=True)\n",
              "      (conv2): Conv2d(64, 64, kernel_size=(3, 3), stride=(1, 1), padding=(1, 1), bias=False)\n",
              "      (bn2): BatchNorm2d(64, eps=1e-05, momentum=0.1, affine=True, track_running_stats=True)\n",
              "    )\n",
              "  )\n",
              "  (layer2): Sequential(\n",
              "    (0): BasicBlock(\n",
              "      (conv1): Conv2d(64, 128, kernel_size=(3, 3), stride=(2, 2), padding=(1, 1), bias=False)\n",
              "      (bn1): BatchNorm2d(128, eps=1e-05, momentum=0.1, affine=True, track_running_stats=True)\n",
              "      (relu): ReLU(inplace=True)\n",
              "      (conv2): Conv2d(128, 128, kernel_size=(3, 3), stride=(1, 1), padding=(1, 1), bias=False)\n",
              "      (bn2): BatchNorm2d(128, eps=1e-05, momentum=0.1, affine=True, track_running_stats=True)\n",
              "      (downsample): Sequential(\n",
              "        (0): Conv2d(64, 128, kernel_size=(1, 1), stride=(2, 2), bias=False)\n",
              "        (1): BatchNorm2d(128, eps=1e-05, momentum=0.1, affine=True, track_running_stats=True)\n",
              "      )\n",
              "    )\n",
              "    (1): BasicBlock(\n",
              "      (conv1): Conv2d(128, 128, kernel_size=(3, 3), stride=(1, 1), padding=(1, 1), bias=False)\n",
              "      (bn1): BatchNorm2d(128, eps=1e-05, momentum=0.1, affine=True, track_running_stats=True)\n",
              "      (relu): ReLU(inplace=True)\n",
              "      (conv2): Conv2d(128, 128, kernel_size=(3, 3), stride=(1, 1), padding=(1, 1), bias=False)\n",
              "      (bn2): BatchNorm2d(128, eps=1e-05, momentum=0.1, affine=True, track_running_stats=True)\n",
              "    )\n",
              "  )\n",
              "  (layer3): Sequential(\n",
              "    (0): BasicBlock(\n",
              "      (conv1): Conv2d(128, 256, kernel_size=(3, 3), stride=(2, 2), padding=(1, 1), bias=False)\n",
              "      (bn1): BatchNorm2d(256, eps=1e-05, momentum=0.1, affine=True, track_running_stats=True)\n",
              "      (relu): ReLU(inplace=True)\n",
              "      (conv2): Conv2d(256, 256, kernel_size=(3, 3), stride=(1, 1), padding=(1, 1), bias=False)\n",
              "      (bn2): BatchNorm2d(256, eps=1e-05, momentum=0.1, affine=True, track_running_stats=True)\n",
              "      (downsample): Sequential(\n",
              "        (0): Conv2d(128, 256, kernel_size=(1, 1), stride=(2, 2), bias=False)\n",
              "        (1): BatchNorm2d(256, eps=1e-05, momentum=0.1, affine=True, track_running_stats=True)\n",
              "      )\n",
              "    )\n",
              "    (1): BasicBlock(\n",
              "      (conv1): Conv2d(256, 256, kernel_size=(3, 3), stride=(1, 1), padding=(1, 1), bias=False)\n",
              "      (bn1): BatchNorm2d(256, eps=1e-05, momentum=0.1, affine=True, track_running_stats=True)\n",
              "      (relu): ReLU(inplace=True)\n",
              "      (conv2): Conv2d(256, 256, kernel_size=(3, 3), stride=(1, 1), padding=(1, 1), bias=False)\n",
              "      (bn2): BatchNorm2d(256, eps=1e-05, momentum=0.1, affine=True, track_running_stats=True)\n",
              "    )\n",
              "  )\n",
              "  (layer4): Sequential(\n",
              "    (0): BasicBlock(\n",
              "      (conv1): Conv2d(256, 512, kernel_size=(3, 3), stride=(2, 2), padding=(1, 1), bias=False)\n",
              "      (bn1): BatchNorm2d(512, eps=1e-05, momentum=0.1, affine=True, track_running_stats=True)\n",
              "      (relu): ReLU(inplace=True)\n",
              "      (conv2): Conv2d(512, 512, kernel_size=(3, 3), stride=(1, 1), padding=(1, 1), bias=False)\n",
              "      (bn2): BatchNorm2d(512, eps=1e-05, momentum=0.1, affine=True, track_running_stats=True)\n",
              "      (downsample): Sequential(\n",
              "        (0): Conv2d(256, 512, kernel_size=(1, 1), stride=(2, 2), bias=False)\n",
              "        (1): BatchNorm2d(512, eps=1e-05, momentum=0.1, affine=True, track_running_stats=True)\n",
              "      )\n",
              "    )\n",
              "    (1): BasicBlock(\n",
              "      (conv1): Conv2d(512, 512, kernel_size=(3, 3), stride=(1, 1), padding=(1, 1), bias=False)\n",
              "      (bn1): BatchNorm2d(512, eps=1e-05, momentum=0.1, affine=True, track_running_stats=True)\n",
              "      (relu): ReLU(inplace=True)\n",
              "      (conv2): Conv2d(512, 512, kernel_size=(3, 3), stride=(1, 1), padding=(1, 1), bias=False)\n",
              "      (bn2): BatchNorm2d(512, eps=1e-05, momentum=0.1, affine=True, track_running_stats=True)\n",
              "    )\n",
              "  )\n",
              "  (avgpool): AdaptiveAvgPool2d(output_size=(1, 1))\n",
              "  (fc): Linear(in_features=512, out_features=8, bias=True)\n",
              ")"
            ]
          },
          "metadata": {},
          "execution_count": 7
        }
      ],
      "source": [
        "model = torchvision.models.resnet18(pretrained=False, num_classes=8)\n",
        "\n",
        "optimizer = optim.Adam(model.parameters(), lr=0.001)\n",
        "# scheduler = optim.lr_scheduler.StepLR(optimizer, step_size=5, gamma=0.1)\n",
        "criterion = torch.nn.CrossEntropyLoss()\n",
        "\n",
        "device = torch.device('cuda' if torch.cuda.is_available() else 'cpu')\n",
        "model.to(device)"
      ]
    },
    {
      "cell_type": "code",
      "execution_count": null,
      "id": "9028ece8",
      "metadata": {
        "colab": {
          "base_uri": "https://localhost:8080/"
        },
        "id": "9028ece8",
        "outputId": "e73170b6-376f-4126-e9f8-3fc2590c81ba"
      },
      "outputs": [
        {
          "output_type": "stream",
          "name": "stdout",
          "text": [
            "Epoch 1/50, Train Loss: 1.9509, Train Accuracy: 27.49%, Validation Loss: 0.0313, Validation Accuracy: 30.73%\n",
            "Epoch 2/50, Train Loss: 1.8845, Train Accuracy: 30.46%, Validation Loss: 0.0344, Validation Accuracy: 27.65%\n",
            "Epoch 3/50, Train Loss: 1.8580, Train Accuracy: 32.64%, Validation Loss: 0.0307, Validation Accuracy: 33.00%\n",
            "Epoch 4/50, Train Loss: 1.7624, Train Accuracy: 36.23%, Validation Loss: 0.0272, Validation Accuracy: 38.53%\n",
            "Epoch 5/50, Train Loss: 1.6873, Train Accuracy: 39.01%, Validation Loss: 0.0285, Validation Accuracy: 37.81%\n",
            "Epoch 6/50, Train Loss: 1.6461, Train Accuracy: 40.08%, Validation Loss: 0.0272, Validation Accuracy: 38.35%\n",
            "Epoch 7/50, Train Loss: 1.6073, Train Accuracy: 41.13%, Validation Loss: 0.0390, Validation Accuracy: 28.47%\n",
            "Epoch 8/50, Train Loss: 1.5861, Train Accuracy: 41.02%, Validation Loss: 0.0263, Validation Accuracy: 40.71%\n",
            "Epoch 9/50, Train Loss: 1.5596, Train Accuracy: 42.87%, Validation Loss: 0.0263, Validation Accuracy: 40.25%\n",
            "Epoch 10/50, Train Loss: 1.5396, Train Accuracy: 43.38%, Validation Loss: 0.0268, Validation Accuracy: 43.52%\n",
            "Epoch 11/50, Train Loss: 1.5148, Train Accuracy: 44.19%, Validation Loss: 0.0250, Validation Accuracy: 44.70%\n",
            "Epoch 12/50, Train Loss: 1.4892, Train Accuracy: 45.78%, Validation Loss: 0.0268, Validation Accuracy: 40.53%\n",
            "Epoch 13/50, Train Loss: 1.4717, Train Accuracy: 45.90%, Validation Loss: 0.0253, Validation Accuracy: 43.79%\n",
            "Epoch 14/50, Train Loss: 1.4566, Train Accuracy: 46.59%, Validation Loss: 0.0252, Validation Accuracy: 41.89%\n",
            "Epoch 15/50, Train Loss: 1.4279, Train Accuracy: 47.50%, Validation Loss: 0.0242, Validation Accuracy: 46.24%\n",
            "Epoch 16/50, Train Loss: 1.4075, Train Accuracy: 48.59%, Validation Loss: 0.0250, Validation Accuracy: 44.61%\n",
            "Epoch 17/50, Train Loss: 1.4036, Train Accuracy: 48.52%, Validation Loss: 0.0247, Validation Accuracy: 45.15%\n",
            "Epoch 18/50, Train Loss: 1.3762, Train Accuracy: 50.11%, Validation Loss: 0.0247, Validation Accuracy: 46.06%\n",
            "Epoch 19/50, Train Loss: 1.3609, Train Accuracy: 49.88%, Validation Loss: 0.0245, Validation Accuracy: 46.06%\n",
            "Epoch 20/50, Train Loss: 1.3304, Train Accuracy: 51.26%, Validation Loss: 0.0234, Validation Accuracy: 49.05%\n",
            "Epoch 21/50, Train Loss: 1.3110, Train Accuracy: 52.37%, Validation Loss: 0.0233, Validation Accuracy: 46.33%\n",
            "Epoch 22/50, Train Loss: 1.2973, Train Accuracy: 52.24%, Validation Loss: 0.0241, Validation Accuracy: 48.23%\n",
            "Epoch 23/50, Train Loss: 1.2657, Train Accuracy: 53.86%, Validation Loss: 0.0227, Validation Accuracy: 49.41%\n",
            "Epoch 24/50, Train Loss: 1.2537, Train Accuracy: 54.33%, Validation Loss: 0.0229, Validation Accuracy: 48.23%\n",
            "Epoch 25/50, Train Loss: 1.2254, Train Accuracy: 55.24%, Validation Loss: 0.0232, Validation Accuracy: 47.60%\n",
            "Epoch 26/50, Train Loss: 1.2066, Train Accuracy: 55.96%, Validation Loss: 0.0231, Validation Accuracy: 50.50%\n",
            "Epoch 27/50, Train Loss: 1.1841, Train Accuracy: 56.65%, Validation Loss: 0.0222, Validation Accuracy: 51.86%\n",
            "Epoch 28/50, Train Loss: 1.1650, Train Accuracy: 57.46%, Validation Loss: 0.0226, Validation Accuracy: 48.78%\n",
            "Epoch 29/50, Train Loss: 1.1488, Train Accuracy: 58.14%, Validation Loss: 0.0232, Validation Accuracy: 48.50%\n",
            "Epoch 30/50, Train Loss: 1.1074, Train Accuracy: 59.88%, Validation Loss: 0.0227, Validation Accuracy: 51.22%\n",
            "Epoch 31/50, Train Loss: 1.0985, Train Accuracy: 59.78%, Validation Loss: 0.0212, Validation Accuracy: 53.40%\n",
            "Epoch 32/50, Train Loss: 1.0737, Train Accuracy: 60.61%, Validation Loss: 0.0228, Validation Accuracy: 49.32%\n",
            "Epoch 33/50, Train Loss: 1.0429, Train Accuracy: 61.92%, Validation Loss: 0.0217, Validation Accuracy: 51.68%\n",
            "Epoch 34/50, Train Loss: 1.0283, Train Accuracy: 63.36%, Validation Loss: 0.0227, Validation Accuracy: 52.22%\n",
            "Epoch 35/50, Train Loss: 1.0063, Train Accuracy: 62.83%, Validation Loss: 0.0223, Validation Accuracy: 52.13%\n",
            "Epoch 36/50, Train Loss: 0.9770, Train Accuracy: 64.78%, Validation Loss: 0.0225, Validation Accuracy: 51.04%\n",
            "Epoch 37/50, Train Loss: 0.9477, Train Accuracy: 65.15%, Validation Loss: 0.0238, Validation Accuracy: 50.14%\n",
            "Epoch 38/50, Train Loss: 0.9253, Train Accuracy: 66.69%, Validation Loss: 0.0237, Validation Accuracy: 53.22%\n",
            "Epoch 39/50, Train Loss: 0.9150, Train Accuracy: 66.65%, Validation Loss: 0.0228, Validation Accuracy: 52.77%\n",
            "Epoch 40/50, Train Loss: 0.8850, Train Accuracy: 67.74%, Validation Loss: 0.0218, Validation Accuracy: 54.31%\n",
            "Epoch 41/50, Train Loss: 0.8757, Train Accuracy: 67.70%, Validation Loss: 0.0228, Validation Accuracy: 53.40%\n",
            "Epoch 42/50, Train Loss: 0.8631, Train Accuracy: 68.35%, Validation Loss: 0.0246, Validation Accuracy: 51.31%\n",
            "Epoch 43/50, Train Loss: 0.8233, Train Accuracy: 69.64%, Validation Loss: 0.0229, Validation Accuracy: 53.58%\n",
            "Epoch 44/50, Train Loss: 0.8057, Train Accuracy: 70.38%, Validation Loss: 0.0236, Validation Accuracy: 53.49%\n",
            "Epoch 45/50, Train Loss: 0.7835, Train Accuracy: 70.86%, Validation Loss: 0.0239, Validation Accuracy: 51.04%\n",
            "Epoch 46/50, Train Loss: 0.7749, Train Accuracy: 71.94%, Validation Loss: 0.0236, Validation Accuracy: 53.04%\n",
            "Epoch 47/50, Train Loss: 0.7396, Train Accuracy: 73.21%, Validation Loss: 0.0265, Validation Accuracy: 53.31%\n",
            "Epoch 48/50, Train Loss: 0.7162, Train Accuracy: 73.86%, Validation Loss: 0.0229, Validation Accuracy: 52.13%\n",
            "Epoch 49/50, Train Loss: 0.6982, Train Accuracy: 74.17%, Validation Loss: 0.0245, Validation Accuracy: 52.31%\n",
            "Epoch 50/50, Train Loss: 0.7073, Train Accuracy: 73.81%, Validation Loss: 0.0255, Validation Accuracy: 50.59%\n",
            "Test Accuracy: 53.04%\n"
          ]
        }
      ],
      "source": [
        "num_epochs = 50\n",
        "train_losses = []\n",
        "train_accs = []\n",
        "val_accs = []\n",
        "val_losses = []\n",
        "\n",
        "\n",
        "# patience = 10 \n",
        "# delta = 0.001 \n",
        "# best_val_loss = float('inf')\n",
        "# best_model_state_dict = None\n",
        "# counter = 0\n",
        "\n",
        "for epoch in range(num_epochs):\n",
        "    model.train()\n",
        "    running_loss = 0.0\n",
        "    correct = 0\n",
        "    total = 0\n",
        "    for images, labels in train_loader:\n",
        "        images = images.to(device)\n",
        "        labels = labels.to(device)\n",
        "\n",
        "        optimizer.zero_grad()\n",
        "        outputs = model(images)\n",
        "        loss = criterion(outputs, labels)\n",
        "        loss.backward()\n",
        "        optimizer.step()\n",
        "\n",
        "        running_loss += loss.item()\n",
        "        _, predicted = torch.max(outputs.data, 1)\n",
        "        total += labels.size(0)\n",
        "        correct += (predicted == labels).sum().item()\n",
        "\n",
        "    train_loss = running_loss / len(train_loader)\n",
        "    train_acc = 100 * correct / total\n",
        "    train_losses.append(train_loss)\n",
        "    train_accs.append(train_acc)\n",
        "\n",
        "    model.eval()\n",
        "    with torch.no_grad():\n",
        "        correct = 0\n",
        "        total = 0\n",
        "        val_loss = 0.0\n",
        "        for images, labels in val_loader:\n",
        "            images = images.to(device)\n",
        "            labels = labels.to(device)\n",
        "\n",
        "            outputs = model(images)\n",
        "            loss = criterion(outputs, labels)\n",
        "            val_loss += loss.item()\n",
        "            _, predicted = torch.max(outputs.data, 1)\n",
        "            total += labels.size(0)\n",
        "            correct += (predicted == labels).sum().item()\n",
        "\n",
        "        \n",
        "        val_loss /= len(val_loader.dataset) #Val loss and acc for each epoch\n",
        "        val_acc = 100 * correct / total\n",
        "        \n",
        "        val_losses.append(val_loss)\n",
        "        val_accs.append(val_acc)\n",
        "\n",
        "        print(f'Epoch {epoch + 1}/{num_epochs}, Train Loss: {train_loss:.4f}, Train Accuracy: {train_acc:.2f}%, Validation Loss: {val_loss:.4f}, Validation Accuracy: {val_acc:.2f}%')\n",
        "\n",
        "#         if val_loss < best_val_loss - delta: # validation loss improvement\n",
        "#             best_val_loss = val_loss\n",
        "#             best_model_state_dict = model.state_dict()\n",
        "#             counter = 0\n",
        "#         else:\n",
        "#             counter += 1\n",
        "#             if counter >= patience:\n",
        "#                 print(\"Validation loss hasn't improved for {} epochs. Stopping early.\".format(patience))\n",
        "#                 break\n",
        "\n",
        "\n",
        "# model.load_state_dict(best_model_state_dict) #Load the best model to eval on test\n",
        "model.eval()\n",
        "with torch.no_grad():\n",
        "    correct = 0\n",
        "    total = 0\n",
        "    for images, labels in test_loader:\n",
        "        images = images.to(device)\n",
        "        labels = labels.to(device)\n",
        "\n",
        "        outputs = model(images)\n",
        "        _, predicted = torch.max(outputs.data, 1)\n",
        "        total += labels.size(0)\n",
        "        correct += (predicted == labels).sum().item()\n",
        "\n",
        "    accuracy = 100 * correct / total\n",
        "    print(f'Test Accuracy: {accuracy:.2f}%')"
      ]
    },
    {
      "cell_type": "code",
      "execution_count": null,
      "id": "cab5bea0",
      "metadata": {
        "id": "cab5bea0",
        "colab": {
          "base_uri": "https://localhost:8080/",
          "height": 367
        },
        "outputId": "9d94a5be-0cdf-4655-803f-47ad0a7515f3"
      },
      "outputs": [
        {
          "output_type": "execute_result",
          "data": {
            "text/plain": [
              "<matplotlib.legend.Legend at 0x7f9c96fdcfa0>"
            ]
          },
          "metadata": {},
          "execution_count": 9
        },
        {
          "output_type": "display_data",
          "data": {
            "text/plain": [
              "<Figure size 720x360 with 2 Axes>"
            ],
            "image/png": "[encoded data removed]"
          },
          "metadata": {
            "needs_background": "light"
          }
        }
      ],
      "source": [
        "# Plot training accuracy and loss\n",
        "plt.figure(figsize=(10,5))\n",
        "plt.subplot(1,2,1)\n",
        "plt.plot(train_losses,label='Training')\n",
        "plt.plot(val_losses, label='Validation')\n",
        "plt.title('Training Loss')\n",
        "plt.xlabel('Epoch')\n",
        "plt.ylabel('Loss')\n",
        "\n",
        "plt.subplot(1,2,2)\n",
        "plt.plot(train_accs, label='Training')\n",
        "plt.plot(val_accs, label='Validation')\n",
        "plt.title('Training and Validation Accuracy')\n",
        "plt.xlabel('Epoch')\n",
        "plt.ylabel('Accuracy')\n",
        "plt.legend()"
      ]
    },
    {
      "cell_type": "code",
      "execution_count": null,
      "id": "02805dbd",
      "metadata": {
        "id": "02805dbd"
      },
      "outputs": [],
      "source": [
        "# Evaluation on test set and ROC curve\n",
        "model.eval()\n",
        "with torch.no_grad():\n",
        "    correct = 0\n",
        "    total = 0\n",
        "    y_true = []\n",
        "    y_pred = []\n",
        "    for images, labels in test_loader:\n",
        "        images = images.to(device)\n",
        "        labels = labels.to(device)\n",
        "\n",
        "        outputs = model(images)\n",
        "        _, predicted = torch.max(outputs.data, 1)\n",
        "        total += labels.size(0)\n",
        "        correct += (predicted == labels).sum().item()\n",
        "\n",
        "        # For ROC curve\n",
        "        y_true.extend(labels.cpu().numpy())\n",
        "        y_pred.extend(outputs.cpu().numpy())  # Predicted probabilities for all classes\n",
        "\n",
        "    accuracy = 100 * correct / total\n",
        "    print(f'Test Accuracy: {accuracy}')\n",
        "# Save the model\n",
        "torch.save(model.state_dict(), '/content/drive/MyDrive/Applied AI Project/ADIENCERESNET.pth')"
      ]
    },
    {
      "cell_type": "code",
      "execution_count": null,
      "id": "b48e1ef1",
      "metadata": {
        "id": "b48e1ef1"
      },
      "outputs": [],
      "source": [
        "from sklearn.metrics import roc_curve, auc\n",
        "num_classes = 4\n",
        "# Convert labels to one-hot encoding\n",
        "y_true_onehot = label_binarize(y_true, classes=np.arange(num_classes))\n",
        "\n",
        "# Convert y_pred list to numpy array\n",
        "y_pred = np.array(y_pred)\n",
        "\n",
        "# Calculate ROC curve for each class\n",
        "fpr = dict()\n",
        "tpr = dict()\n",
        "roc_auc = dict()\n",
        "for i in range(num_classes):\n",
        "    fpr[i], tpr[i], _ = roc_curve(y_true_onehot[:, i], y_pred[:, i])\n",
        "    roc_auc[i] = auc(fpr[i], tpr[i])\n",
        "\n",
        "# Compute micro-average ROC curve and ROC area\n",
        "fpr[\"micro\"], tpr[\"micro\"], _ = roc_curve(y_true_onehot.ravel(), y_pred.ravel())\n",
        "roc_auc[\"micro\"] = auc(fpr[\"micro\"], tpr[\"micro\"])\n",
        "\n",
        "# Plot ROC curves for each class and micro-average\n",
        "plt.figure()\n",
        "lw = 2\n",
        "colors = cycle(['aqua', 'darkorange', 'cornflowerblue'])\n",
        "for i, color in zip(range(num_classes), colors):\n",
        "    plt.plot(fpr[i], tpr[i], color=color, lw=lw, label='ROC curve of class {0} (area = {1:0.2f})'\n",
        "             ''.format(i, roc_auc[i]))\n",
        "plt.plot(fpr[\"micro\"], tpr[\"micro\"], color='deeppink', lw=lw, linestyle='--',\n",
        "         label='micro-average ROC curve (area = {0:0.2f})'\n",
        "               ''.format(roc_auc[\"micro\"]))\n",
        "plt.plot([0, 1], [0, 1], 'k--', lw=lw)\n",
        "plt.xlim([0.0, 1.0])\n",
        "plt.ylim([0.0, 1.05])\n",
        "plt.xlabel('False Positive Rate')\n",
        "plt.ylabel('True Positive Rate')\n",
        "plt.title('ROC curve for multi-class classification')\n",
        "plt.legend(loc=\"lower right\")\n",
        "plt.show()\n"
      ]
    },
    {
      "cell_type": "code",
      "execution_count": null,
      "id": "27be4946",
      "metadata": {
        "id": "27be4946"
      },
      "outputs": [],
      "source": [
        "###########################################"
      ]
    },
    {
      "cell_type": "code",
      "source": [],
      "metadata": {
        "id": "Wiv5ZBLcXloo"
      },
      "id": "Wiv5ZBLcXloo",
      "execution_count": null,
      "outputs": []
    },
    {
      "cell_type": "code",
      "source": [],
      "metadata": {
        "id": "m0OLtQoBXlya"
      },
      "id": "m0OLtQoBXlya",
      "execution_count": null,
      "outputs": []
    },
    {
      "cell_type": "code",
      "source": [],
      "metadata": {
        "id": "jP6yfWmiXl4Y"
      },
      "id": "jP6yfWmiXl4Y",
      "execution_count": null,
      "outputs": []
    },
    {
      "cell_type": "code",
      "source": [],
      "metadata": {
        "id": "h33GS680Xl9a"
      },
      "id": "h33GS680Xl9a",
      "execution_count": null,
      "outputs": []
    }
  ],
  "metadata": {
    "kernelspec": {
      "display_name": "Python 3 (ipykernel)",
      "language": "python",
      "name": "python3"
    },
    "language_info": {
      "codemirror_mode": {
        "name": "ipython",
        "version": 3
      },
      "file_extension": ".py",
      "mimetype": "text/x-python",
      "name": "python",
      "nbconvert_exporter": "python",
      "pygments_lexer": "ipython3",
      "version": "3.9.13"
    },
    "colab": {
      "provenance": []
    },
    "accelerator": "GPU",
    "gpuClass": "standard"
  },
  "nbformat": 4,
  "nbformat_minor": 5
}