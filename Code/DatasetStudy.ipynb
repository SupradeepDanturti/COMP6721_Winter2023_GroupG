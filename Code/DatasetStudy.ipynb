{
 "cells": [
  {
   "cell_type": "code",
   "execution_count": 1,
   "id": "7e51c804",
   "metadata": {},
   "outputs": [],
   "source": [
    "#Imports"
   ]
  },
  {
   "cell_type": "code",
   "execution_count": 2,
   "id": "9734141e",
   "metadata": {},
   "outputs": [],
   "source": [
    "import os\n",
    "import numpy as np\n",
    "from PIL import Image, ImageFilter\n",
    "import cv2\n",
    "import torch,torchvision\n",
    "import torchvision.transforms as transforms\n",
    "from torchvision import datasets\n",
    "import torch.optim as optim\n",
    "from torchvision.datasets import ImageFolder\n",
    "from torch.utils.data import DataLoader\n",
    "from sklearn.preprocessing import label_binarize\n",
    "from itertools import cycle\n",
    "import matplotlib.pyplot as plt \n",
    "%matplotlib inline"
   ]
  },
  {
   "cell_type": "markdown",
   "id": "7d24483b",
   "metadata": {},
   "source": [
    "# Dataset Study"
   ]
  },
  {
   "cell_type": "markdown",
   "id": "3dcc8bd2",
   "metadata": {},
   "source": [
    "## UTKFace Dataset"
   ]
  },
  {
   "cell_type": "code",
   "execution_count": 3,
   "id": "eb45371f",
   "metadata": {},
   "outputs": [
    {
     "name": "stdout",
     "output_type": "stream",
     "text": [
      "Class: GreaterThan29\n",
      "Number of images: 12341\n",
      "Image size: (200, 200)\n",
      "Number of channels: 3\n",
      "Storage format: JPEG\n",
      "\n",
      "Class: LessThan28\n",
      "Number of images: 11365\n",
      "Image size: (200, 200)\n",
      "Number of channels: 3\n",
      "Storage format: JPEG\n",
      "\n"
     ]
    }
   ],
   "source": [
    "root_dir = \"D:/SupraAI Project/BinarySplit/\"\n",
    "\n",
    "class_dirs = os.listdir(root_dir)\n",
    "\n",
    "for class_dir in class_dirs:\n",
    "    class_path = os.path.join(root_dir, class_dir)\n",
    "\n",
    "    img_files = os.listdir(class_path)\n",
    "    \n",
    "    num_images = len(img_files)\n",
    "    \n",
    "    img_path = os.path.join(class_path, img_files[0])\n",
    "    img = Image.open(img_path)\n",
    "    img_size = img.size\n",
    "    num_channels = len(img.getbands())\n",
    "    storage_format = img.format\n",
    "    \n",
    "    print(\"Class:\", class_dir)\n",
    "    print(\"Number of images:\", num_images)\n",
    "    print(\"Image size:\", img_size)\n",
    "    print(\"Number of channels:\", num_channels)\n",
    "    print(\"Storage format:\", storage_format)\n",
    "    print()"
   ]
  },
  {
   "cell_type": "code",
   "execution_count": 4,
   "id": "9b8153a1",
   "metadata": {},
   "outputs": [
    {
     "name": "stdout",
     "output_type": "stream",
     "text": [
      "Class: 0-3\n",
      "Number of images: 1829\n",
      "Image size: (816, 816)\n",
      "Number of channels: 3\n",
      "Storage format: JPEG\n",
      "\n",
      "Class: 15-23\n",
      "Number of images: 938\n",
      "Image size: (816, 816)\n",
      "Number of channels: 3\n",
      "Storage format: JPEG\n",
      "\n",
      "Class: 25-36\n",
      "Number of images: 3001\n",
      "Image size: (816, 816)\n",
      "Number of channels: 3\n",
      "Storage format: JPEG\n",
      "\n",
      "Class: 38-48\n",
      "Number of images: 1419\n",
      "Image size: (816, 816)\n",
      "Number of channels: 3\n",
      "Storage format: JPEG\n",
      "\n",
      "Class: 4-6\n",
      "Number of images: 1471\n",
      "Image size: (816, 816)\n",
      "Number of channels: 3\n",
      "Storage format: JPEG\n",
      "\n",
      "Class: 48-58\n",
      "Number of images: 577\n",
      "Image size: (816, 816)\n",
      "Number of channels: 3\n",
      "Storage format: JPEG\n",
      "\n",
      "Class: 60-100\n",
      "Number of images: 505\n",
      "Image size: (816, 816)\n",
      "Number of channels: 3\n",
      "Storage format: JPEG\n",
      "\n",
      "Class: 8-13\n",
      "Number of images: 1290\n",
      "Image size: (816, 816)\n",
      "Number of channels: 3\n",
      "Storage format: JPEG\n",
      "\n"
     ]
    }
   ],
   "source": [
    "root_dir = \"D:/SupraAI Project/Adience/Adience/\"\n",
    "\n",
    "class_dirs = os.listdir(root_dir)\n",
    "\n",
    "for class_dir in class_dirs:\n",
    "    class_path = os.path.join(root_dir, class_dir)\n",
    "    \n",
    "    img_files = os.listdir(class_path)\n",
    "    \n",
    "    num_images = len(img_files)\n",
    "    \n",
    "    img_path = os.path.join(class_path, img_files[0])\n",
    "    img = Image.open(img_path)\n",
    "    img_size = img.size\n",
    "    num_channels = len(img.getbands())\n",
    "    storage_format = img.format\n",
    "    \n",
    "    print(\"Class:\", class_dir)\n",
    "    print(\"Number of images:\", num_images)\n",
    "    print(\"Image size:\", img_size)\n",
    "    print(\"Number of channels:\", num_channels)\n",
    "    print(\"Storage format:\", storage_format)\n",
    "    print()"
   ]
  },
  {
   "cell_type": "code",
   "execution_count": 5,
   "id": "16923ba7",
   "metadata": {},
   "outputs": [
    {
     "name": "stdout",
     "output_type": "stream",
     "text": [
      "Class: Class_0_ Age_1To18\n",
      "Number of images: 1696\n",
      "Image size: (321, 321)\n",
      "Number of channels: 3\n",
      "Storage format: JPEG\n",
      "\n",
      "Class: Class_1_ Age_19To25\n",
      "Number of images: 1419\n",
      "Image size: (419, 418)\n",
      "Number of channels: 3\n",
      "Storage format: JPEG\n",
      "\n",
      "Class: Class_2_ Age_26To32\n",
      "Number of images: 1456\n",
      "Image size: (897, 898)\n",
      "Number of channels: 3\n",
      "Storage format: JPEG\n",
      "\n",
      "Class: Class_3_ Age_32To45\n",
      "Number of images: 1577\n",
      "Image size: (157, 156)\n",
      "Number of channels: 3\n",
      "Storage format: JPEG\n",
      "\n",
      "Class: Class_5_ Age_45plus\n",
      "Number of images: 1443\n",
      "Image size: (1000, 598)\n",
      "Number of channels: 3\n",
      "Storage format: JPEG\n",
      "\n"
     ]
    }
   ],
   "source": [
    "root_dir = \"D:/SupraAI Project/Appa-Real/Appa-Real/\"\n",
    "\n",
    "class_dirs = os.listdir(root_dir)\n",
    "\n",
    "for class_dir in class_dirs:\n",
    "    class_path = os.path.join(root_dir, class_dir)\n",
    "    \n",
    "    img_files = os.listdir(class_path)\n",
    "    \n",
    "    num_images = len(img_files)\n",
    "    \n",
    "    img_path = os.path.join(class_path, img_files[0])\n",
    "    img = Image.open(img_path)\n",
    "    img_size = img.size\n",
    "    num_channels = len(img.getbands())\n",
    "    storage_format = img.format\n",
    "    \n",
    "    # Print the information about the class\n",
    "    print(\"Class:\", class_dir)\n",
    "    print(\"Number of images:\", num_images)\n",
    "    print(\"Image size:\", img_size)\n",
    "    print(\"Number of channels:\", num_channels)\n",
    "    print(\"Storage format:\", storage_format)\n",
    "    print()"
   ]
  },
  {
   "cell_type": "code",
   "execution_count": 6,
   "id": "4b0ee635",
   "metadata": {},
   "outputs": [],
   "source": [
    "transforms = transforms.Compose([\n",
    "    transforms.Resize((224, 224)),\n",
    "    transforms.ToTensor()\n",
    "])\n",
    "\n",
    "utkface_dataset = ImageFolder(\"D:/SupraAI Project/BinarySplit/\", transform=transforms)\n",
    "\n",
    "adience_dataset = ImageFolder(\"D:/SupraAI Project/Adience/Adience/\", transform=transforms)\n",
    "\n",
    "appa_dataset = ImageFolder(\"D:/SupraAI Project/Appa-Real/Appa-Real/\", transform=transforms)"
   ]
  },
  {
   "cell_type": "code",
   "execution_count": 7,
   "id": "07c83cd2",
   "metadata": {},
   "outputs": [
    {
     "name": "stdout",
     "output_type": "stream",
     "text": [
      "UTKFace Standard Deviation per Class: tensor([0.2167, 0.2286])\n",
      "Adience Standard Deviation per Class: tensor([0.2429, 0.2306, 0.2309, 0.2245, 0.2237, 0.2197, 0.2194, 0.2129])\n",
      "Appa-Real Standard Deviation per Class: tensor([0.2494, 0.2593, 0.2604, 0.2589, 0.2545])\n"
     ]
    }
   ],
   "source": [
    "def compute_std_per_class(dataset):\n",
    "    class_std = torch.zeros(len(dataset.classes))\n",
    "    class_count = torch.zeros(len(dataset.classes))\n",
    "    for i in range(len(dataset)):\n",
    "        img, label = dataset[i]\n",
    "        class_std[label] += torch.std(img)\n",
    "        class_count[label] += 1\n",
    "\n",
    "    for i in range(len(dataset.classes)):\n",
    "        class_std[i] /= class_count[i]\n",
    "\n",
    "    return class_std\n",
    "\n",
    "utkface_std = compute_std_per_class(utkface_dataset)\n",
    "adience_std = compute_std_per_class(adience_dataset)\n",
    "appa_std = compute_std_per_class(appa_dataset)\n",
    "\n",
    "# Print the results\n",
    "print(\"UTKFace Standard Deviation per Class:\", utkface_std)\n",
    "print(\"Adience Standard Deviation per Class:\", adience_std)\n",
    "print(\"Appa-Real Standard Deviation per Class:\", appa_std)"
   ]
  },
  {
   "cell_type": "code",
   "execution_count": 20,
   "id": "ce2da756",
   "metadata": {},
   "outputs": [
    {
     "data": {
      "image/png": "[encoded data removed]",
      "text/plain": [
       "<Figure size 640x480 with 1 Axes>"
      ]
     },
     "metadata": {},
     "output_type": "display_data"
    }
   ],
   "source": [
    "def plot_std_per_class(*std_per_class_datasets):\n",
    "    fig, ax = plt.subplots()\n",
    "    width = 1.0 / len(std_per_class_datasets)\n",
    "    x = []\n",
    "    labels = []\n",
    "    dataset_names = []\n",
    "    for i, (std_per_class, dataset) in enumerate(std_per_class_datasets):\n",
    "        dataset_name = os.path.basename(dataset.root.rstrip('/'))\n",
    "        class_count = len(dataset.classes)\n",
    "        x += [j + (i - 0.5) * width for j in range(class_count)]\n",
    "        labels += [f\"{dataset_name}: {c}\" for c in dataset.classes]\n",
    "        dataset_names.append(dataset_name.replace('BinarySplit', 'UTKFace'))\n",
    "        ax.bar(x[-class_count:], std_per_class, width=width)\n",
    "    ax.set_xticks(x)\n",
    "    ax.set_xticklabels(labels, rotation=90, ha='right', fontsize=8)\n",
    "    ax.set_xlabel('Class')\n",
    "    ax.set_ylabel('Standard Deviation')\n",
    "    ax.set_title('Standard Deviation per Class')\n",
    "    \n",
    "    ax.legend(dataset_names, bbox_to_anchor=(1.02, 1), loc='upper left')\n",
    "\n",
    "plot_std_per_class((utkface_std, utkface_dataset), (adience_std, adience_dataset), (appa_std, appa_dataset))\n",
    "plt.show()"
   ]
  },
  {
   "cell_type": "markdown",
   "id": "6a2ae6a5",
   "metadata": {},
   "source": [
    "# Time to process one epoch"
   ]
  },
  {
   "cell_type": "code",
   "execution_count": 1,
   "id": "ca56fce3",
   "metadata": {},
   "outputs": [],
   "source": [
    "import os\n",
    "import numpy as np\n",
    "from PIL import Image, ImageFilter\n",
    "import cv2\n",
    "import torch,torchvision\n",
    "import torchvision.transforms as transforms\n",
    "from torchvision import datasets\n",
    "import torch.optim as optim\n",
    "from torchvision.datasets import ImageFolder\n",
    "from torch.utils.data import DataLoader\n",
    "from sklearn.preprocessing import label_binarize\n",
    "from itertools import cycle\n",
    "import warnings\n",
    "warnings.filterwarnings('ignore')\n",
    "import matplotlib.pyplot as plt \n",
    "%matplotlib inline"
   ]
  },
  {
   "cell_type": "code",
   "execution_count": 2,
   "id": "d3fb92b8",
   "metadata": {},
   "outputs": [],
   "source": [
    "def load_data(path, test_split, val_split, batch_size, input_size):\n",
    "    \n",
    "    transform_dict={'src':transforms.Compose([transforms.RandomHorizontalFlip(),\n",
    "                                              transforms.Resize((224,224)),\n",
    "                      transforms.RandomVerticalFlip(),\n",
    "                      transforms.RandomRotation(15),\n",
    "                      transforms.ToTensor(),\n",
    "                      transforms.Normalize(mean=[0.485, 0.456, 0.406], std=[0.229, 0.224, 0.225])])}\n",
    "    \n",
    "    data1 = datasets.ImageFolder(root=path,transform =transform_dict['src'])\n",
    "    test_size=int(len(data1)*test_split)\n",
    "    val_size=int(len(data1)*val_split)\n",
    "    train_size=len(data1)-val_size-test_size\n",
    "    train_dataset,test_dataset,val_dataset = torch.utils.data.random_split(data1,[train_size,test_size,val_size])\n",
    "    data_loader_train=DataLoader(train_dataset,batch_size,shuffle=True)\n",
    "    data_loader_test=DataLoader(test_dataset,batch_size,shuffle=False)\n",
    "    data_loader_val=DataLoader(val_dataset,batch_size,shuffle=False)  \n",
    "    return data_loader_train, data_loader_test, data_loader_val"
   ]
  },
  {
   "cell_type": "markdown",
   "id": "d58d4325",
   "metadata": {},
   "source": [
    "### UTKFace Dataset"
   ]
  },
  {
   "cell_type": "code",
   "execution_count": 8,
   "id": "989a1afe",
   "metadata": {},
   "outputs": [],
   "source": [
    "train_loader,test_loader,val_loader=load_data(path=r'D:/SupraAI Project/BinarySplit/', \n",
    "                                              test_split=0.1,val_split= 0.1,batch_size=16, input_size=[224,224])\n",
    "\n",
    "\n",
    "import torch\n",
    "from torchsummary import summary\n",
    "## Change model name here!\n",
    "model = torchvision.models.shufflenet_v2_x1_0(pretrained=False, num_classes=2)\n",
    "optimizer = optim.Adam(model.parameters(), lr=0.01)\n",
    "criterion = torch.nn.CrossEntropyLoss()\n",
    "\n",
    "device = torch.device('cuda' if torch.cuda.is_available() else 'cpu')\n",
    "model = model.to(device)"
   ]
  },
  {
   "cell_type": "markdown",
   "id": "e11f9956",
   "metadata": {},
   "source": [
    "###### Resnet18"
   ]
  },
  {
   "cell_type": "code",
   "execution_count": 5,
   "id": "151f45f9",
   "metadata": {},
   "outputs": [
    {
     "name": "stdout",
     "output_type": "stream",
     "text": [
      "Time taken for one epoch:  70.77535486221313 seconds\n"
     ]
    }
   ],
   "source": [
    "import time\n",
    "start_time = time.time()\n",
    "for epoch in range(1):\n",
    "    model.train()\n",
    "    for batch_idx, (data, target) in enumerate(train_loader):\n",
    "        data, target = data.to(device), target.to(device)\n",
    "        optimizer.zero_grad()\n",
    "        output = model(data)\n",
    "        loss = criterion(output, target)\n",
    "        loss.backward()\n",
    "        optimizer.step()\n",
    "\n",
    "end_time = time.time()\n",
    "print(\"Time taken for one epoch: \", end_time - start_time, \"seconds\")"
   ]
  },
  {
   "cell_type": "markdown",
   "id": "4e8cb638",
   "metadata": {},
   "source": [
    "###### MobileNet_V2"
   ]
  },
  {
   "cell_type": "code",
   "execution_count": 7,
   "id": "4dbb9940",
   "metadata": {},
   "outputs": [
    {
     "name": "stdout",
     "output_type": "stream",
     "text": [
      "Time taken for one epoch:  110.08716654777527 seconds\n"
     ]
    }
   ],
   "source": [
    "import time\n",
    "start_time = time.time()\n",
    "for epoch in range(1):\n",
    "    model.train()\n",
    "    for batch_idx, (data, target) in enumerate(train_loader):\n",
    "        data, target = data.to(device), target.to(device)\n",
    "        optimizer.zero_grad()\n",
    "        output = model(data)\n",
    "        loss = criterion(output, target)\n",
    "        loss.backward()\n",
    "        optimizer.step()\n",
    "\n",
    "end_time = time.time()\n",
    "print(\"Time taken for one epoch: \", end_time - start_time, \"seconds\")"
   ]
  },
  {
   "cell_type": "markdown",
   "id": "b108087f",
   "metadata": {},
   "source": [
    "###### ShuffleNet"
   ]
  },
  {
   "cell_type": "code",
   "execution_count": 9,
   "id": "9e74c317",
   "metadata": {},
   "outputs": [
    {
     "name": "stdout",
     "output_type": "stream",
     "text": [
      "Time taken for one epoch:  102.09258484840393 seconds\n"
     ]
    }
   ],
   "source": [
    "import time\n",
    "start_time = time.time()\n",
    "for epoch in range(1):\n",
    "    model.train()\n",
    "    for batch_idx, (data, target) in enumerate(train_loader):\n",
    "        data, target = data.to(device), target.to(device)\n",
    "        optimizer.zero_grad()\n",
    "        output = model(data)\n",
    "        loss = criterion(output, target)\n",
    "        loss.backward()\n",
    "        optimizer.step()\n",
    "\n",
    "end_time = time.time()\n",
    "print(\"Time taken for one epoch: \", end_time - start_time, \"seconds\")"
   ]
  },
  {
   "cell_type": "markdown",
   "id": "c74ddf9e",
   "metadata": {},
   "source": [
    "## Adience Dataset"
   ]
  },
  {
   "cell_type": "code",
   "execution_count": 15,
   "id": "c5253833",
   "metadata": {},
   "outputs": [],
   "source": [
    "train_loader,test_loader,val_loader=load_data(path=r'D:/SupraAI Project/Adience/Adience/', \n",
    "                                              test_split=0.1,val_split= 0.1,batch_size=16, input_size=[224,224])\n",
    "\n",
    "\n",
    "import torch\n",
    "from torchsummary import summary\n",
    "## Change model name here!\n",
    "model = torchvision.models.resnet18(pretrained=False, num_classes=8)\n",
    "optimizer = optim.Adam(model.parameters(), lr=0.01)\n",
    "criterion = torch.nn.CrossEntropyLoss()\n",
    "\n",
    "device = torch.device('cuda' if torch.cuda.is_available() else 'cpu')\n",
    "model = model.to(device)"
   ]
  },
  {
   "cell_type": "markdown",
   "id": "76fb53bc",
   "metadata": {},
   "source": [
    "###### Resnet"
   ]
  },
  {
   "cell_type": "code",
   "execution_count": 16,
   "id": "5a01dee2",
   "metadata": {},
   "outputs": [
    {
     "name": "stdout",
     "output_type": "stream",
     "text": [
      "Time taken for one epoch:  105.17315673828125 seconds\n"
     ]
    }
   ],
   "source": [
    "import time\n",
    "start_time = time.time()\n",
    "for epoch in range(1):\n",
    "    model.train()\n",
    "    for batch_idx, (data, target) in enumerate(train_loader):\n",
    "        data, target = data.to(device), target.to(device)\n",
    "        optimizer.zero_grad()\n",
    "        output = model(data)\n",
    "        loss = criterion(output, target)\n",
    "        loss.backward()\n",
    "        optimizer.step()\n",
    "\n",
    "end_time = time.time()\n",
    "print(\"Time taken for one epoch: \", end_time - start_time, \"seconds\")"
   ]
  },
  {
   "cell_type": "markdown",
   "id": "70c6cb84",
   "metadata": {},
   "source": [
    "###### MobileNet_V2"
   ]
  },
  {
   "cell_type": "code",
   "execution_count": 14,
   "id": "55fcfc4b",
   "metadata": {},
   "outputs": [
    {
     "name": "stdout",
     "output_type": "stream",
     "text": [
      "Time taken for one epoch:  147.18602848052979 seconds\n"
     ]
    }
   ],
   "source": [
    "import time\n",
    "start_time = time.time()\n",
    "for epoch in range(1):\n",
    "    model.train()\n",
    "    for batch_idx, (data, target) in enumerate(train_loader):\n",
    "        data, target = data.to(device), target.to(device)\n",
    "        optimizer.zero_grad()\n",
    "        output = model(data)\n",
    "        loss = criterion(output, target)\n",
    "        loss.backward()\n",
    "        optimizer.step()\n",
    "\n",
    "end_time = time.time()\n",
    "print(\"Time taken for one epoch: \", end_time - start_time, \"seconds\")"
   ]
  },
  {
   "cell_type": "markdown",
   "id": "b56a5164",
   "metadata": {},
   "source": [
    "###### ShuffleNet"
   ]
  },
  {
   "cell_type": "code",
   "execution_count": 12,
   "id": "d7758e7d",
   "metadata": {},
   "outputs": [
    {
     "name": "stdout",
     "output_type": "stream",
     "text": [
      "Time taken for one epoch:  135.83223509788513 seconds\n"
     ]
    }
   ],
   "source": [
    "import time\n",
    "start_time = time.time()\n",
    "for epoch in range(1):\n",
    "    model.train()\n",
    "    for batch_idx, (data, target) in enumerate(train_loader):\n",
    "        data, target = data.to(device), target.to(device)\n",
    "        optimizer.zero_grad()\n",
    "        output = model(data)\n",
    "        loss = criterion(output, target)\n",
    "        loss.backward()\n",
    "        optimizer.step()\n",
    "\n",
    "end_time = time.time()\n",
    "print(\"Time taken for one epoch: \", end_time - start_time, \"seconds\")"
   ]
  },
  {
   "cell_type": "markdown",
   "id": "0c41dd29",
   "metadata": {},
   "source": [
    "# Appa-Real Dataset"
   ]
  },
  {
   "cell_type": "code",
   "execution_count": 21,
   "id": "8eb673fc",
   "metadata": {},
   "outputs": [],
   "source": [
    "train_loader,test_loader,val_loader=load_data(path=r'D:/SupraAI Project/Appa-Real/Appa-Real/', \n",
    "                                              test_split=0.1,val_split= 0.1,batch_size=16, input_size=[224,224])\n",
    "\n",
    "\n",
    "import torch\n",
    "from torchsummary import summary\n",
    "## Change model name here!\n",
    "model = torchvision.models.mobilenet_v2(pretrained=False, num_classes=8)\n",
    "optimizer = optim.Adam(model.parameters(), lr=0.01)\n",
    "criterion = torch.nn.CrossEntropyLoss()\n",
    "\n",
    "device = torch.device('cuda' if torch.cuda.is_available() else 'cpu')\n",
    "model = model.to(device)"
   ]
  },
  {
   "cell_type": "markdown",
   "id": "dbd8a8e6",
   "metadata": {},
   "source": [
    "###### Resnet"
   ]
  },
  {
   "cell_type": "code",
   "execution_count": 20,
   "id": "755bd0b6",
   "metadata": {},
   "outputs": [
    {
     "name": "stdout",
     "output_type": "stream",
     "text": [
      "Time taken for one epoch:  41.716572284698486 seconds\n"
     ]
    }
   ],
   "source": [
    "import time\n",
    "start_time = time.time()\n",
    "for epoch in range(1):\n",
    "    model.train()\n",
    "    for batch_idx, (data, target) in enumerate(train_loader):\n",
    "        data, target = data.to(device), target.to(device)\n",
    "        optimizer.zero_grad()\n",
    "        output = model(data)\n",
    "        loss = criterion(output, target)\n",
    "        loss.backward()\n",
    "        optimizer.step()\n",
    "\n",
    "end_time = time.time()\n",
    "print(\"Time taken for one epoch: \", end_time - start_time, \"seconds\")"
   ]
  },
  {
   "cell_type": "markdown",
   "id": "ec03eaf8",
   "metadata": {},
   "source": [
    "###### MobileNet_V2"
   ]
  },
  {
   "cell_type": "code",
   "execution_count": 22,
   "id": "9ea084d0",
   "metadata": {},
   "outputs": [
    {
     "name": "stdout",
     "output_type": "stream",
     "text": [
      "Time taken for one epoch:  58.38414716720581 seconds\n"
     ]
    }
   ],
   "source": [
    "import time\n",
    "start_time = time.time()\n",
    "for epoch in range(1):\n",
    "    model.train()\n",
    "    for batch_idx, (data, target) in enumerate(train_loader):\n",
    "        data, target = data.to(device), target.to(device)\n",
    "        optimizer.zero_grad()\n",
    "        output = model(data)\n",
    "        loss = criterion(output, target)\n",
    "        loss.backward()\n",
    "        optimizer.step()\n",
    "\n",
    "end_time = time.time()\n",
    "print(\"Time taken for one epoch: \", end_time - start_time, \"seconds\")"
   ]
  },
  {
   "cell_type": "markdown",
   "id": "ea3839ed",
   "metadata": {},
   "source": [
    "###### ShuffleNet"
   ]
  },
  {
   "cell_type": "code",
   "execution_count": 18,
   "id": "a4a1fe5d",
   "metadata": {},
   "outputs": [
    {
     "name": "stdout",
     "output_type": "stream",
     "text": [
      "Time taken for one epoch:  56.21947145462036 seconds\n"
     ]
    }
   ],
   "source": [
    "import time\n",
    "start_time = time.time()\n",
    "for epoch in range(1):\n",
    "    model.train()\n",
    "    for batch_idx, (data, target) in enumerate(train_loader):\n",
    "        data, target = data.to(device), target.to(device)\n",
    "        optimizer.zero_grad()\n",
    "        output = model(data)\n",
    "        loss = criterion(output, target)\n",
    "        loss.backward()\n",
    "        optimizer.step()\n",
    "\n",
    "end_time = time.time()\n",
    "print(\"Time taken for one epoch: \", end_time - start_time, \"seconds\")"
   ]
  },
  {
   "cell_type": "markdown",
   "id": "eeb311ac",
   "metadata": {},
   "source": [
    "# Flop Calculations"
   ]
  },
  {
   "cell_type": "markdown",
   "id": "ca9f4cc9",
   "metadata": {},
   "source": [
    "###### RESNET-18"
   ]
  },
  {
   "cell_type": "code",
   "execution_count": 1,
   "id": "f16d97c4",
   "metadata": {},
   "outputs": [],
   "source": [
    "import os\n",
    "import numpy as np\n",
    "from PIL import Image, ImageFilter\n",
    "import cv2\n",
    "import torch,torchvision\n",
    "import torchvision.transforms as transforms\n",
    "from torchvision import datasets\n",
    "import torch.optim as optim\n",
    "from torchvision.datasets import ImageFolder\n",
    "from torch.utils.data import DataLoader\n",
    "from sklearn.preprocessing import label_binarize\n",
    "from itertools import cycle\n",
    "import matplotlib.pyplot as plt \n",
    "%matplotlib inline"
   ]
  },
  {
   "cell_type": "code",
   "execution_count": 2,
   "id": "28500c1f",
   "metadata": {},
   "outputs": [],
   "source": [
    "import warnings\n",
    "warnings.filterwarnings('ignore')"
   ]
  },
  {
   "cell_type": "code",
   "execution_count": 3,
   "id": "329471bd",
   "metadata": {},
   "outputs": [],
   "source": [
    "def load_data(path, test_split, val_split, batch_size, input_size):\n",
    "    \n",
    "    transform_dict={'src':transforms.Compose([transforms.RandomHorizontalFlip(),\n",
    "                                              transforms.Resize((224,224)),\n",
    "                      transforms.RandomVerticalFlip(),\n",
    "                      transforms.RandomRotation(15),\n",
    "                      transforms.ToTensor(),\n",
    "                      transforms.Normalize(mean=[0.485, 0.456, 0.406], std=[0.229, 0.224, 0.225])])}\n",
    "    \n",
    "    data1 = datasets.ImageFolder(root=path,transform =transform_dict['src'])\n",
    "    test_size=int(len(data1)*test_split)\n",
    "    val_size=int(len(data1)*val_split)\n",
    "    train_size=len(data1)-val_size-test_size\n",
    "    train_dataset,test_dataset,val_dataset = torch.utils.data.random_split(data1,[train_size,test_size,val_size])\n",
    "    data_loader_train=DataLoader(train_dataset,batch_size,shuffle=True)\n",
    "    data_loader_test=DataLoader(test_dataset,batch_size,shuffle=False)\n",
    "    data_loader_val=DataLoader(val_dataset,batch_size,shuffle=False)  \n",
    "    return data_loader_train, data_loader_test, data_loader_val"
   ]
  },
  {
   "cell_type": "code",
   "execution_count": 4,
   "id": "9204a946",
   "metadata": {},
   "outputs": [
    {
     "name": "stdout",
     "output_type": "stream",
     "text": [
      "FLOPS: 990.436 billion\n"
     ]
    }
   ],
   "source": [
    "train_loader,test_loader,val_loader=load_data(path=r'D:/SupraAI Project/BinarySplit/', \n",
    "                                              test_split=0.1,val_split= 0.1,batch_size=16, input_size=[200,200])\n",
    "\n",
    "\n",
    "import torch\n",
    "from torchsummary import summary\n",
    "\n",
    "model = torchvision.models.resnet18(pretrained=False, num_classes=2)\n",
    "optimizer = optim.Adam(model.parameters(), lr=0.01)\n",
    "criterion = torch.nn.CrossEntropyLoss()\n",
    "\n",
    "device = torch.device('cpu' if torch.cuda.is_available() else 'cuda')\n",
    "model = model.to(device)\n",
    "#summary(model, (3, 224, 224))\n",
    "\n",
    "# FLOPS calculation\n",
    "flops = 0\n",
    "for name, module in model.named_modules():\n",
    "    if isinstance(module, torch.nn.Conv2d):\n",
    "        flops += 2 * module.in_channels * module.out_channels * module.kernel_size[0] ** 2 * (224 // module.stride[0]) ** 2\n",
    "    elif isinstance(module, torch.nn.Linear):\n",
    "        flops += 2 * module.in_features * module.out_features\n",
    "\n",
    "print(f\"FLOPS: {flops / 1e9:.3f} billion\")"
   ]
  },
  {
   "cell_type": "markdown",
   "id": "05497125",
   "metadata": {},
   "source": [
    "######  Mobilenet_v2"
   ]
  },
  {
   "cell_type": "code",
   "execution_count": 5,
   "id": "e4d5c5b9",
   "metadata": {},
   "outputs": [
    {
     "name": "stdout",
     "output_type": "stream",
     "text": [
      "FLOPS: 4018.565 billion\n"
     ]
    }
   ],
   "source": [
    "train_loader,test_loader,val_loader=load_data(path=r'D:/SupraAI Project/BinarySplit/', \n",
    "                                              test_split=0.1,val_split= 0.1,batch_size=16, input_size=[200,200])\n",
    "\n",
    "import torch\n",
    "from torchsummary import summary\n",
    "\n",
    "model = torchvision.models.mobilenet_v2(pretrained=False, num_classes=2)\n",
    "optimizer = optim.Adam(model.parameters(), lr=0.01)\n",
    "criterion = torch.nn.CrossEntropyLoss()\n",
    "\n",
    "device = torch.device('cpu' if torch.cuda.is_available() else 'cuda')\n",
    "model = model.to(device)\n",
    "#summary(model, (3, 224, 224))\n",
    "\n",
    "# FLOPS calculation\n",
    "flops = 0\n",
    "for name, module in model.named_modules():\n",
    "    if isinstance(module, torch.nn.Conv2d):\n",
    "        flops += 2 * module.in_channels * module.out_channels * module.kernel_size[0] ** 2 * (224 // module.stride[0]) ** 2\n",
    "    elif isinstance(module, torch.nn.Linear):\n",
    "        flops += 2 * module.in_features * module.out_features\n",
    "\n",
    "print(f\"FLOPS: {flops / 1e9:.3f} billion\")"
   ]
  },
  {
   "cell_type": "markdown",
   "id": "28db35f5",
   "metadata": {},
   "source": [
    "######  ShuffleNet"
   ]
  },
  {
   "cell_type": "code",
   "execution_count": 6,
   "id": "5b3a0c19",
   "metadata": {},
   "outputs": [
    {
     "name": "stdout",
     "output_type": "stream",
     "text": [
      "FLOPS: 393.202 billion\n"
     ]
    }
   ],
   "source": [
    "train_loader,test_loader,val_loader=load_data(path=r'D:/SupraAI Project/BinarySplit/', \n",
    "                                              test_split=0.1,val_split= 0.1,batch_size=16, input_size=[200,200])\n",
    "\n",
    "\n",
    "import torch\n",
    "from torchsummary import summary\n",
    "\n",
    "model = torchvision.models.shufflenet_v2_x1_0(pretrained=False, num_classes=2)\n",
    "optimizer = optim.Adam(model.parameters(), lr=0.01)\n",
    "criterion = torch.nn.CrossEntropyLoss()\n",
    "\n",
    "device = torch.device('cpu' if torch.cuda.is_available() else 'cuda')\n",
    "model = model.to(device)\n",
    "#summary(model, (3, 224, 224))\n",
    "\n",
    "# FLOPS calculation\n",
    "flops = 0\n",
    "for name, module in model.named_modules():\n",
    "    if isinstance(module, torch.nn.Conv2d):\n",
    "        flops += 2 * module.in_channels * module.out_channels * module.kernel_size[0] ** 2 * (224 // module.stride[0]) ** 2\n",
    "    elif isinstance(module, torch.nn.Linear):\n",
    "        flops += 2 * module.in_features * module.out_features\n",
    "\n",
    "print(f\"FLOPS: {flops / 1e9:.3f} billion\")"
   ]
  },
  {
   "cell_type": "code",
   "execution_count": null,
   "id": "e130c7b8",
   "metadata": {},
   "outputs": [],
   "source": []
  },
  {
   "cell_type": "markdown",
   "id": "4c151bd1",
   "metadata": {},
   "source": [
    "### "
   ]
  }
 ],
 "metadata": {
  "kernelspec": {
   "display_name": "Python 3 (ipykernel)",
   "language": "python",
   "name": "python3"
  },
  "language_info": {
   "codemirror_mode": {
    "name": "ipython",
    "version": 3
   },
   "file_extension": ".py",
   "mimetype": "text/x-python",
   "name": "python",
   "nbconvert_exporter": "python",
   "pygments_lexer": "ipython3",
   "version": "3.9.13"
  }
 },
 "nbformat": 4,
 "nbformat_minor": 5
}
